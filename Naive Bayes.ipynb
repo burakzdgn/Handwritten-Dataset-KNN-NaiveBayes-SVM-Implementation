{
 "cells": [
  {
   "cell_type": "code",
   "execution_count": 1,
   "id": "37e4fd07",
   "metadata": {},
   "outputs": [],
   "source": [
    "import numpy as np\n",
    "import pandas as pd\n",
    "import matplotlib.pyplot as plt\n",
    "import seaborn as sns\n",
    "sns.set()\n",
    "\n",
    "from sklearn.model_selection import train_test_split\n",
    "from sklearn.metrics import accuracy_score,r2_score,classification_report,confusion_matrix"
   ]
  },
  {
   "cell_type": "code",
   "execution_count": 2,
   "id": "df7f2bb0",
   "metadata": {},
   "outputs": [],
   "source": [
    "data = pd.read_csv('A_Z Handwritten Data.csv')"
   ]
  },
  {
   "cell_type": "code",
   "execution_count": 3,
   "id": "abb3e794",
   "metadata": {},
   "outputs": [],
   "source": [
    "X = data.drop('0',axis=1)\n",
    "y = data['0']\n",
    "\n",
    "X_train, X_test, y_train, y_test = train_test_split(X, y, test_size=0.33, random_state=42)"
   ]
  },
  {
   "cell_type": "code",
   "execution_count": 4,
   "id": "dad4f6ef",
   "metadata": {},
   "outputs": [],
   "source": [
    "from sklearn.preprocessing import StandardScaler\n",
    "sc = StandardScaler()\n",
    "X_train = sc.fit_transform(X_train)\n",
    "X_test = sc.transform(X_test)"
   ]
  },
  {
   "cell_type": "code",
   "execution_count": 5,
   "id": "4fe3b30a",
   "metadata": {},
   "outputs": [
    {
     "data": {
      "text/plain": [
       "GaussianNB()"
      ]
     },
     "execution_count": 5,
     "metadata": {},
     "output_type": "execute_result"
    }
   ],
   "source": [
    "from sklearn.naive_bayes import GaussianNB\n",
    "classifier = GaussianNB()\n",
    "classifier.fit(X_train, y_train)"
   ]
  },
  {
   "cell_type": "code",
   "execution_count": 6,
   "id": "f1245ce0",
   "metadata": {},
   "outputs": [],
   "source": [
    "y_pred  =  classifier.predict(X_test)"
   ]
  },
  {
   "cell_type": "code",
   "execution_count": 7,
   "id": "98a6e33b",
   "metadata": {},
   "outputs": [],
   "source": [
    "cm = confusion_matrix(y_test, y_pred)\n",
    "ac = accuracy_score(y_test,y_pred)"
   ]
  },
  {
   "cell_type": "code",
   "execution_count": 8,
   "id": "f0363b12",
   "metadata": {},
   "outputs": [
    {
     "name": "stdout",
     "output_type": "stream",
     "text": [
      "Accuracy with Naive Bayes  0.5329390036531092\n"
     ]
    }
   ],
   "source": [
    "print(\"Accuracy with Naive Bayes \",ac)"
   ]
  },
  {
   "cell_type": "code",
   "execution_count": 9,
   "id": "ab3c000c",
   "metadata": {},
   "outputs": [
    {
     "name": "stdout",
     "output_type": "stream",
     "text": [
      "              precision    recall  f1-score   support\n",
      "\n",
      "           0       0.77      0.01      0.02      4518\n",
      "           1       0.26      0.78      0.39      2822\n",
      "           2       0.90      0.65      0.76      7893\n",
      "           3       0.76      0.35      0.48      3285\n",
      "           4       0.38      0.62      0.47      3773\n",
      "           5       0.96      0.15      0.26       367\n",
      "           6       0.25      0.85      0.39      1881\n",
      "           7       0.16      0.53      0.24      2363\n",
      "           8       0.00      0.00      0.00       383\n",
      "           9       0.00      0.00      0.00      2738\n",
      "          10       0.20      0.00      0.00      1876\n",
      "          11       0.50      0.86      0.64      3784\n",
      "          12       0.96      0.26      0.41      4081\n",
      "          13       0.40      0.66      0.50      6131\n",
      "          14       0.79      0.90      0.84     19161\n",
      "          15       0.33      0.00      0.00      6417\n",
      "          16       0.00      0.00      0.00      1948\n",
      "          17       0.00      0.00      0.00      3752\n",
      "          18       0.91      0.76      0.83     15906\n",
      "          19       0.54      0.91      0.68      7439\n",
      "          20       0.92      0.00      0.00      9662\n",
      "          21       0.39      0.91      0.55      1421\n",
      "          22       0.36      0.80      0.50      3629\n",
      "          23       0.27      0.88      0.41      2112\n",
      "          24       0.50      0.00      0.00      3566\n",
      "          25       0.46      0.61      0.52      2001\n",
      "\n",
      "    accuracy                           0.53    122909\n",
      "   macro avg       0.46      0.44      0.34    122909\n",
      "weighted avg       0.61      0.53      0.47    122909\n",
      "\n"
     ]
    },
    {
     "name": "stderr",
     "output_type": "stream",
     "text": [
      "C:\\ProgramData\\Anaconda3\\lib\\site-packages\\sklearn\\metrics\\_classification.py:1318: UndefinedMetricWarning: Precision and F-score are ill-defined and being set to 0.0 in labels with no predicted samples. Use `zero_division` parameter to control this behavior.\n",
      "  _warn_prf(average, modifier, msg_start, len(result))\n",
      "C:\\ProgramData\\Anaconda3\\lib\\site-packages\\sklearn\\metrics\\_classification.py:1318: UndefinedMetricWarning: Precision and F-score are ill-defined and being set to 0.0 in labels with no predicted samples. Use `zero_division` parameter to control this behavior.\n",
      "  _warn_prf(average, modifier, msg_start, len(result))\n",
      "C:\\ProgramData\\Anaconda3\\lib\\site-packages\\sklearn\\metrics\\_classification.py:1318: UndefinedMetricWarning: Precision and F-score are ill-defined and being set to 0.0 in labels with no predicted samples. Use `zero_division` parameter to control this behavior.\n",
      "  _warn_prf(average, modifier, msg_start, len(result))\n"
     ]
    }
   ],
   "source": [
    "print(classification_report(y_test,y_pred))"
   ]
  },
  {
   "cell_type": "code",
   "execution_count": null,
   "id": "251081c0",
   "metadata": {},
   "outputs": [],
   "source": []
  }
 ],
 "metadata": {
  "kernelspec": {
   "display_name": "Python 3 (ipykernel)",
   "language": "python",
   "name": "python3"
  },
  "language_info": {
   "codemirror_mode": {
    "name": "ipython",
    "version": 3
   },
   "file_extension": ".py",
   "mimetype": "text/x-python",
   "name": "python",
   "nbconvert_exporter": "python",
   "pygments_lexer": "ipython3",
   "version": "3.9.13"
  }
 },
 "nbformat": 4,
 "nbformat_minor": 5
}
