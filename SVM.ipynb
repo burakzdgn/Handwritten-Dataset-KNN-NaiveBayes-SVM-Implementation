{
 "cells": [
  {
   "cell_type": "code",
   "execution_count": 1,
   "id": "d1342792",
   "metadata": {},
   "outputs": [],
   "source": [
    "import numpy as np\n",
    "import pandas as pd\n",
    "import matplotlib.pyplot as plt\n",
    "import seaborn as sns\n",
    "sns.set()\n",
    "\n",
    "from sklearn.model_selection import train_test_split\n",
    "from sklearn.metrics import accuracy_score,r2_score,classification_report"
   ]
  },
  {
   "cell_type": "code",
   "execution_count": 2,
   "id": "fb1276af",
   "metadata": {},
   "outputs": [],
   "source": [
    "data = pd.read_csv('A_Z Handwritten Data.csv')"
   ]
  },
  {
   "cell_type": "code",
   "execution_count": 3,
   "id": "1d26f25e",
   "metadata": {},
   "outputs": [],
   "source": [
    "X = data.drop('0',axis=1)\n",
    "y = data['0']\n",
    "\n",
    "X_train, X_test, y_train, y_test = train_test_split(X, y, test_size=0.33, random_state=42)"
   ]
  },
  {
   "cell_type": "code",
   "execution_count": 5,
   "id": "0535b135",
   "metadata": {},
   "outputs": [
    {
     "data": {
      "text/plain": [
       "SVC(random_state=1)"
      ]
     },
     "execution_count": 5,
     "metadata": {},
     "output_type": "execute_result"
    }
   ],
   "source": [
    "from sklearn.svm import SVC\n",
    "classifier = SVC(kernel='rbf', random_state = 1)\n",
    "classifier.fit(X_train,y_train)"
   ]
  },
  {
   "cell_type": "code",
   "execution_count": 6,
   "id": "0ec0c83a",
   "metadata": {},
   "outputs": [],
   "source": [
    "Y_pred = classifier.predict(X_test)"
   ]
  },
  {
   "cell_type": "code",
   "execution_count": 10,
   "id": "4acb0327",
   "metadata": {},
   "outputs": [
    {
     "name": "stdout",
     "output_type": "stream",
     "text": [
      "\n",
      "Accuracy Of SVM For The Given Dataset :  0.9790658129185007\n"
     ]
    }
   ],
   "source": [
    "from sklearn.metrics import confusion_matrix\n",
    "cm = confusion_matrix(y_test,Y_pred)\n",
    "accuracy = float(cm.diagonal().sum())/len(y_test)\n",
    "print(\"\\nAccuracy Of SVM For The Given Dataset : \", accuracy)"
   ]
  },
  {
   "cell_type": "code",
   "execution_count": 11,
   "id": "b0f76aad",
   "metadata": {},
   "outputs": [
    {
     "name": "stdout",
     "output_type": "stream",
     "text": [
      "              precision    recall  f1-score   support\n",
      "\n",
      "           0       0.95      0.99      0.97      4518\n",
      "           1       0.97      0.97      0.97      2822\n",
      "           2       0.98      0.98      0.98      7893\n",
      "           3       0.94      0.95      0.95      3285\n",
      "           4       0.98      0.97      0.97      3773\n",
      "           5       0.98      0.95      0.97       367\n",
      "           6       0.98      0.95      0.96      1881\n",
      "           7       0.96      0.94      0.95      2363\n",
      "           8       0.99      0.96      0.97       383\n",
      "           9       0.96      0.96      0.96      2738\n",
      "          10       0.95      0.95      0.95      1876\n",
      "          11       0.98      0.99      0.98      3784\n",
      "          12       0.98      0.98      0.98      4081\n",
      "          13       0.97      0.98      0.97      6131\n",
      "          14       0.99      0.99      0.99     19161\n",
      "          15       0.98      0.98      0.98      6417\n",
      "          16       0.97      0.94      0.96      1948\n",
      "          17       0.98      0.96      0.97      3752\n",
      "          18       0.99      0.99      0.99     15906\n",
      "          19       0.99      0.99      0.99      7439\n",
      "          20       0.98      0.99      0.99      9662\n",
      "          21       0.99      0.99      0.99      1421\n",
      "          22       0.98      0.96      0.97      3629\n",
      "          23       0.98      0.96      0.97      2112\n",
      "          24       0.96      0.97      0.97      3566\n",
      "          25       0.99      0.96      0.98      2001\n",
      "\n",
      "    accuracy                           0.98    122909\n",
      "   macro avg       0.98      0.97      0.97    122909\n",
      "weighted avg       0.98      0.98      0.98    122909\n",
      "\n"
     ]
    }
   ],
   "source": [
    "print(classification_report(y_test,Y_pred))"
   ]
  },
  {
   "cell_type": "code",
   "execution_count": null,
   "id": "3042292d",
   "metadata": {},
   "outputs": [],
   "source": []
  }
 ],
 "metadata": {
  "kernelspec": {
   "display_name": "Python 3 (ipykernel)",
   "language": "python",
   "name": "python3"
  },
  "language_info": {
   "codemirror_mode": {
    "name": "ipython",
    "version": 3
   },
   "file_extension": ".py",
   "mimetype": "text/x-python",
   "name": "python",
   "nbconvert_exporter": "python",
   "pygments_lexer": "ipython3",
   "version": "3.9.13"
  }
 },
 "nbformat": 4,
 "nbformat_minor": 5
}
