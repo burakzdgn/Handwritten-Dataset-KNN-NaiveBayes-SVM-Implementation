{
 "cells": [
  {
   "cell_type": "code",
   "execution_count": 1,
   "id": "8a38b048",
   "metadata": {},
   "outputs": [],
   "source": [
    "import numpy as np\n",
    "import pandas as pd\n",
    "import matplotlib.pyplot as plt\n",
    "import seaborn as sns\n",
    "sns.set()\n",
    "\n",
    "from sklearn.model_selection import train_test_split\n",
    "from sklearn.metrics import accuracy_score,r2_score,classification_report\n"
   ]
  },
  {
   "cell_type": "code",
   "execution_count": 2,
   "id": "b99a0ad8",
   "metadata": {},
   "outputs": [],
   "source": [
    "data = pd.read_csv('A_Z Handwritten Data.csv')"
   ]
  },
  {
   "cell_type": "code",
   "execution_count": 3,
   "id": "58051f52",
   "metadata": {},
   "outputs": [],
   "source": [
    "X = data.drop('0',axis=1)\n",
    "y = data['0']\n",
    "\n",
    "X_train, X_test, y_train, y_test = train_test_split(X, y, test_size=0.33, random_state=42)"
   ]
  },
  {
   "cell_type": "code",
   "execution_count": 4,
   "id": "31ee4e8d",
   "metadata": {},
   "outputs": [],
   "source": [
    "from sklearn.neighbors import KNeighborsClassifier"
   ]
  },
  {
   "cell_type": "code",
   "execution_count": 5,
   "id": "0cd175ac",
   "metadata": {},
   "outputs": [],
   "source": [
    "knn5 = KNeighborsClassifier(n_neighbors = 5)\n",
    "knn1 = KNeighborsClassifier(n_neighbors=1)"
   ]
  },
  {
   "cell_type": "code",
   "execution_count": 6,
   "id": "d920ffcf",
   "metadata": {},
   "outputs": [
    {
     "name": "stderr",
     "output_type": "stream",
     "text": [
      "C:\\ProgramData\\Anaconda3\\lib\\site-packages\\sklearn\\neighbors\\_classification.py:228: FutureWarning: Unlike other reduction functions (e.g. `skew`, `kurtosis`), the default behavior of `mode` typically preserves the axis it acts along. In SciPy 1.11.0, this behavior will change: the default value of `keepdims` will become False, the `axis` over which the statistic is taken will be eliminated, and the value None will no longer be accepted. Set `keepdims` to True or False to avoid this warning.\n",
      "  mode, _ = stats.mode(_y[neigh_ind, k], axis=1)\n",
      "C:\\ProgramData\\Anaconda3\\lib\\site-packages\\sklearn\\neighbors\\_classification.py:228: FutureWarning: Unlike other reduction functions (e.g. `skew`, `kurtosis`), the default behavior of `mode` typically preserves the axis it acts along. In SciPy 1.11.0, this behavior will change: the default value of `keepdims` will become False, the `axis` over which the statistic is taken will be eliminated, and the value None will no longer be accepted. Set `keepdims` to True or False to avoid this warning.\n",
      "  mode, _ = stats.mode(_y[neigh_ind, k], axis=1)\n"
     ]
    }
   ],
   "source": [
    "knn5.fit(X_train, y_train)\n",
    "knn1.fit(X_train, y_train)\n",
    "\n",
    "y_pred_5 = knn5.predict(X_test)\n",
    "y_pred_1 = knn1.predict(X_test)"
   ]
  },
  {
   "cell_type": "code",
   "execution_count": 10,
   "id": "06697ce4",
   "metadata": {},
   "outputs": [
    {
     "name": "stderr",
     "output_type": "stream",
     "text": [
      "C:\\ProgramData\\Anaconda3\\lib\\site-packages\\sklearn\\neighbors\\_classification.py:228: FutureWarning: Unlike other reduction functions (e.g. `skew`, `kurtosis`), the default behavior of `mode` typically preserves the axis it acts along. In SciPy 1.11.0, this behavior will change: the default value of `keepdims` will become False, the `axis` over which the statistic is taken will be eliminated, and the value None will no longer be accepted. Set `keepdims` to True or False to avoid this warning.\n",
      "  mode, _ = stats.mode(_y[neigh_ind, k], axis=1)\n"
     ]
    }
   ],
   "source": [
    "knn26 = KNeighborsClassifier(n_neighbors=26)\n",
    "knn26.fit(X_train, y_train)\n",
    "y_pred_26 = knn26.predict(X_test)"
   ]
  },
  {
   "cell_type": "code",
   "execution_count": 11,
   "id": "f873ebe3",
   "metadata": {},
   "outputs": [
    {
     "name": "stdout",
     "output_type": "stream",
     "text": [
      "Accuracy with k=5 95.71797020559927\n",
      "Accuracy with k=1 97.9798061980815\n",
      "Accuracy with k=26 93.78727351129697\n"
     ]
    }
   ],
   "source": [
    "print(\"Accuracy with k=5\", accuracy_score(y_test, y_pred_5)*100)\n",
    "print(\"Accuracy with k=1\", accuracy_score(y_test, y_pred_1)*100)\n",
    "print(\"Accuracy with k=26\", accuracy_score(y_test, y_pred_26)*100)"
   ]
  },
  {
   "cell_type": "code",
   "execution_count": 12,
   "id": "79da780a",
   "metadata": {},
   "outputs": [
    {
     "name": "stdout",
     "output_type": "stream",
     "text": [
      "              precision    recall  f1-score   support\n",
      "\n",
      "           0       0.98      0.98      0.98      4518\n",
      "           1       0.99      0.93      0.96      2822\n",
      "           2       0.98      0.99      0.99      7893\n",
      "           3       0.97      0.95      0.96      3285\n",
      "           4       0.99      0.96      0.97      3773\n",
      "           5       0.94      0.92      0.93       367\n",
      "           6       0.97      0.94      0.96      1881\n",
      "           7       0.95      0.96      0.95      2363\n",
      "           8       0.98      0.92      0.95       383\n",
      "           9       0.97      0.95      0.96      2738\n",
      "          10       0.96      0.95      0.96      1876\n",
      "          11       0.97      0.99      0.98      3784\n",
      "          12       0.99      0.97      0.98      4081\n",
      "          13       0.98      0.98      0.98      6131\n",
      "          14       0.98      0.99      0.99     19161\n",
      "          15       0.96      0.99      0.98      6417\n",
      "          16       0.99      0.89      0.94      1948\n",
      "          17       0.98      0.94      0.96      3752\n",
      "          18       0.99      1.00      0.99     15906\n",
      "          19       0.98      1.00      0.99      7439\n",
      "          20       0.99      0.99      0.99      9662\n",
      "          21       0.99      0.99      0.99      1421\n",
      "          22       0.99      0.98      0.98      3629\n",
      "          23       0.99      0.95      0.97      2112\n",
      "          24       0.96      0.98      0.97      3566\n",
      "          25       0.99      0.98      0.98      2001\n",
      "\n",
      "    accuracy                           0.98    122909\n",
      "   macro avg       0.98      0.96      0.97    122909\n",
      "weighted avg       0.98      0.98      0.98    122909\n",
      "\n"
     ]
    }
   ],
   "source": [
    "print(classification_report(y_test,y_pred_1))"
   ]
  },
  {
   "cell_type": "code",
   "execution_count": 13,
   "id": "517d715e",
   "metadata": {},
   "outputs": [
    {
     "name": "stdout",
     "output_type": "stream",
     "text": [
      "              precision    recall  f1-score   support\n",
      "\n",
      "           0       0.94      0.97      0.96      4518\n",
      "           1       0.97      0.86      0.92      2822\n",
      "           2       0.94      0.98      0.96      7893\n",
      "           3       0.93      0.87      0.90      3285\n",
      "           4       0.98      0.91      0.95      3773\n",
      "           5       0.93      0.90      0.92       367\n",
      "           6       0.96      0.87      0.91      1881\n",
      "           7       0.92      0.92      0.92      2363\n",
      "           8       0.98      0.87      0.92       383\n",
      "           9       0.94      0.91      0.92      2738\n",
      "          10       0.94      0.91      0.92      1876\n",
      "          11       0.92      0.98      0.95      3784\n",
      "          12       0.98      0.96      0.97      4081\n",
      "          13       0.95      0.97      0.96      6131\n",
      "          14       0.95      0.99      0.97     19161\n",
      "          15       0.91      0.97      0.94      6417\n",
      "          16       0.97      0.75      0.85      1948\n",
      "          17       0.97      0.85      0.91      3752\n",
      "          18       0.99      0.99      0.99     15906\n",
      "          19       0.95      0.99      0.97      7439\n",
      "          20       0.97      0.98      0.98      9662\n",
      "          21       0.98      0.99      0.98      1421\n",
      "          22       0.99      0.93      0.96      3629\n",
      "          23       0.99      0.89      0.94      2112\n",
      "          24       0.92      0.96      0.94      3566\n",
      "          25       0.98      0.95      0.97      2001\n",
      "\n",
      "    accuracy                           0.96    122909\n",
      "   macro avg       0.96      0.93      0.94    122909\n",
      "weighted avg       0.96      0.96      0.96    122909\n",
      "\n"
     ]
    }
   ],
   "source": [
    "print(classification_report(y_test,y_pred_5))"
   ]
  },
  {
   "cell_type": "code",
   "execution_count": 14,
   "id": "22ef8a25",
   "metadata": {},
   "outputs": [
    {
     "name": "stdout",
     "output_type": "stream",
     "text": [
      "              precision    recall  f1-score   support\n",
      "\n",
      "           0       0.93      0.96      0.94      4518\n",
      "           1       0.99      0.79      0.88      2822\n",
      "           2       0.92      0.97      0.94      7893\n",
      "           3       0.94      0.79      0.86      3285\n",
      "           4       0.98      0.87      0.92      3773\n",
      "           5       0.93      0.85      0.88       367\n",
      "           6       0.96      0.78      0.86      1881\n",
      "           7       0.91      0.89      0.90      2363\n",
      "           8       0.98      0.79      0.88       383\n",
      "           9       0.92      0.86      0.89      2738\n",
      "          10       0.95      0.87      0.91      1876\n",
      "          11       0.89      0.98      0.93      3784\n",
      "          12       0.98      0.94      0.96      4081\n",
      "          13       0.91      0.96      0.94      6131\n",
      "          14       0.93      0.99      0.96     19161\n",
      "          15       0.86      0.96      0.91      6417\n",
      "          16       0.96      0.64      0.77      1948\n",
      "          17       0.97      0.78      0.86      3752\n",
      "          18       0.98      0.99      0.99     15906\n",
      "          19       0.92      0.99      0.95      7439\n",
      "          20       0.96      0.98      0.97      9662\n",
      "          21       0.97      0.98      0.97      1421\n",
      "          22       0.98      0.90      0.94      3629\n",
      "          23       0.98      0.84      0.90      2112\n",
      "          24       0.85      0.95      0.90      3566\n",
      "          25       0.98      0.93      0.96      2001\n",
      "\n",
      "    accuracy                           0.94    122909\n",
      "   macro avg       0.94      0.89      0.91    122909\n",
      "weighted avg       0.94      0.94      0.94    122909\n",
      "\n"
     ]
    }
   ],
   "source": [
    "print(classification_report(y_test,y_pred_26))"
   ]
  },
  {
   "cell_type": "code",
   "execution_count": null,
   "id": "28d1b950",
   "metadata": {},
   "outputs": [],
   "source": []
  }
 ],
 "metadata": {
  "kernelspec": {
   "display_name": "Python 3 (ipykernel)",
   "language": "python",
   "name": "python3"
  },
  "language_info": {
   "codemirror_mode": {
    "name": "ipython",
    "version": 3
   },
   "file_extension": ".py",
   "mimetype": "text/x-python",
   "name": "python",
   "nbconvert_exporter": "python",
   "pygments_lexer": "ipython3",
   "version": "3.9.13"
  }
 },
 "nbformat": 4,
 "nbformat_minor": 5
}
